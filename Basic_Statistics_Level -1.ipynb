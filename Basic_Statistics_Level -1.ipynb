{
 "cells": [
  {
   "cell_type": "markdown",
   "id": "d73eaa48",
   "metadata": {},
   "source": [
    "# Calculate Mean, Median, Mode, Variance, Standard Deviation, Range & comment about the values / draw inferences, for the given dataset"
   ]
  },
  {
   "cell_type": "markdown",
   "id": "bc508a83",
   "metadata": {},
   "source": [
    "1.For Points,Score,Weigh>\n",
    "\n",
    "2.Find Mean, Median, Mode, Variance, Standard Deviation, and Range and also Comment about the values/ Draw some inferences."
   ]
  },
  {
   "cell_type": "code",
   "execution_count": 1,
   "id": "d514d8c7",
   "metadata": {},
   "outputs": [],
   "source": [
    "import numpy as np\n",
    "import pandas as pd\n",
    "import matplotlib.pyplot as plt\n",
    "import seaborn as sns\n",
    "%matplotlib inline"
   ]
  },
  {
   "cell_type": "code",
   "execution_count": 2,
   "id": "1ff51a26",
   "metadata": {},
   "outputs": [],
   "source": [
    "cars=pd.read_csv(\"C:/Users/Computer/Desktop/csv files/Q7.csv\")"
   ]
  },
  {
   "cell_type": "code",
   "execution_count": 3,
   "id": "7b8cbac7",
   "metadata": {},
   "outputs": [
    {
     "data": {
      "text/html": [
       "<div>\n",
       "<style scoped>\n",
       "    .dataframe tbody tr th:only-of-type {\n",
       "        vertical-align: middle;\n",
       "    }\n",
       "\n",
       "    .dataframe tbody tr th {\n",
       "        vertical-align: top;\n",
       "    }\n",
       "\n",
       "    .dataframe thead th {\n",
       "        text-align: right;\n",
       "    }\n",
       "</style>\n",
       "<table border=\"1\" class=\"dataframe\">\n",
       "  <thead>\n",
       "    <tr style=\"text-align: right;\">\n",
       "      <th></th>\n",
       "      <th>Unnamed: 0</th>\n",
       "      <th>Points</th>\n",
       "      <th>Score</th>\n",
       "      <th>Weigh</th>\n",
       "    </tr>\n",
       "  </thead>\n",
       "  <tbody>\n",
       "    <tr>\n",
       "      <th>0</th>\n",
       "      <td>Mazda RX4</td>\n",
       "      <td>3.90</td>\n",
       "      <td>2.620</td>\n",
       "      <td>16.46</td>\n",
       "    </tr>\n",
       "    <tr>\n",
       "      <th>1</th>\n",
       "      <td>Mazda RX4 Wag</td>\n",
       "      <td>3.90</td>\n",
       "      <td>2.875</td>\n",
       "      <td>17.02</td>\n",
       "    </tr>\n",
       "    <tr>\n",
       "      <th>2</th>\n",
       "      <td>Datsun 710</td>\n",
       "      <td>3.85</td>\n",
       "      <td>2.320</td>\n",
       "      <td>18.61</td>\n",
       "    </tr>\n",
       "    <tr>\n",
       "      <th>3</th>\n",
       "      <td>Hornet 4 Drive</td>\n",
       "      <td>3.08</td>\n",
       "      <td>3.215</td>\n",
       "      <td>19.44</td>\n",
       "    </tr>\n",
       "    <tr>\n",
       "      <th>4</th>\n",
       "      <td>Hornet Sportabout</td>\n",
       "      <td>3.15</td>\n",
       "      <td>3.440</td>\n",
       "      <td>17.02</td>\n",
       "    </tr>\n",
       "    <tr>\n",
       "      <th>5</th>\n",
       "      <td>Valiant</td>\n",
       "      <td>2.76</td>\n",
       "      <td>3.460</td>\n",
       "      <td>20.22</td>\n",
       "    </tr>\n",
       "    <tr>\n",
       "      <th>6</th>\n",
       "      <td>Duster 360</td>\n",
       "      <td>3.21</td>\n",
       "      <td>3.570</td>\n",
       "      <td>15.84</td>\n",
       "    </tr>\n",
       "    <tr>\n",
       "      <th>7</th>\n",
       "      <td>Merc 240D</td>\n",
       "      <td>3.69</td>\n",
       "      <td>3.190</td>\n",
       "      <td>20.00</td>\n",
       "    </tr>\n",
       "    <tr>\n",
       "      <th>8</th>\n",
       "      <td>Merc 230</td>\n",
       "      <td>3.92</td>\n",
       "      <td>3.150</td>\n",
       "      <td>22.90</td>\n",
       "    </tr>\n",
       "    <tr>\n",
       "      <th>9</th>\n",
       "      <td>Merc 280</td>\n",
       "      <td>3.92</td>\n",
       "      <td>3.440</td>\n",
       "      <td>18.30</td>\n",
       "    </tr>\n",
       "    <tr>\n",
       "      <th>10</th>\n",
       "      <td>Merc 280C</td>\n",
       "      <td>3.92</td>\n",
       "      <td>3.440</td>\n",
       "      <td>18.90</td>\n",
       "    </tr>\n",
       "    <tr>\n",
       "      <th>11</th>\n",
       "      <td>Merc 450SE</td>\n",
       "      <td>3.07</td>\n",
       "      <td>4.070</td>\n",
       "      <td>17.40</td>\n",
       "    </tr>\n",
       "    <tr>\n",
       "      <th>12</th>\n",
       "      <td>Merc 450SL</td>\n",
       "      <td>3.07</td>\n",
       "      <td>3.730</td>\n",
       "      <td>17.60</td>\n",
       "    </tr>\n",
       "    <tr>\n",
       "      <th>13</th>\n",
       "      <td>Merc 450SLC</td>\n",
       "      <td>3.07</td>\n",
       "      <td>3.780</td>\n",
       "      <td>18.00</td>\n",
       "    </tr>\n",
       "    <tr>\n",
       "      <th>14</th>\n",
       "      <td>Cadillac Fleetwood</td>\n",
       "      <td>2.93</td>\n",
       "      <td>5.250</td>\n",
       "      <td>17.98</td>\n",
       "    </tr>\n",
       "    <tr>\n",
       "      <th>15</th>\n",
       "      <td>Lincoln Continental</td>\n",
       "      <td>3.00</td>\n",
       "      <td>5.424</td>\n",
       "      <td>17.82</td>\n",
       "    </tr>\n",
       "    <tr>\n",
       "      <th>16</th>\n",
       "      <td>Chrysler Imperial</td>\n",
       "      <td>3.23</td>\n",
       "      <td>5.345</td>\n",
       "      <td>17.42</td>\n",
       "    </tr>\n",
       "    <tr>\n",
       "      <th>17</th>\n",
       "      <td>Fiat 128</td>\n",
       "      <td>4.08</td>\n",
       "      <td>2.200</td>\n",
       "      <td>19.47</td>\n",
       "    </tr>\n",
       "    <tr>\n",
       "      <th>18</th>\n",
       "      <td>Honda Civic</td>\n",
       "      <td>4.93</td>\n",
       "      <td>1.615</td>\n",
       "      <td>18.52</td>\n",
       "    </tr>\n",
       "    <tr>\n",
       "      <th>19</th>\n",
       "      <td>Toyota Corolla</td>\n",
       "      <td>4.22</td>\n",
       "      <td>1.835</td>\n",
       "      <td>19.90</td>\n",
       "    </tr>\n",
       "    <tr>\n",
       "      <th>20</th>\n",
       "      <td>Toyota Corona</td>\n",
       "      <td>3.70</td>\n",
       "      <td>2.465</td>\n",
       "      <td>20.01</td>\n",
       "    </tr>\n",
       "    <tr>\n",
       "      <th>21</th>\n",
       "      <td>Dodge Challenger</td>\n",
       "      <td>2.76</td>\n",
       "      <td>3.520</td>\n",
       "      <td>16.87</td>\n",
       "    </tr>\n",
       "    <tr>\n",
       "      <th>22</th>\n",
       "      <td>AMC Javelin</td>\n",
       "      <td>3.15</td>\n",
       "      <td>3.435</td>\n",
       "      <td>17.30</td>\n",
       "    </tr>\n",
       "    <tr>\n",
       "      <th>23</th>\n",
       "      <td>Camaro Z28</td>\n",
       "      <td>3.73</td>\n",
       "      <td>3.840</td>\n",
       "      <td>15.41</td>\n",
       "    </tr>\n",
       "    <tr>\n",
       "      <th>24</th>\n",
       "      <td>Pontiac Firebird</td>\n",
       "      <td>3.08</td>\n",
       "      <td>3.845</td>\n",
       "      <td>17.05</td>\n",
       "    </tr>\n",
       "    <tr>\n",
       "      <th>25</th>\n",
       "      <td>Fiat X1-9</td>\n",
       "      <td>4.08</td>\n",
       "      <td>1.935</td>\n",
       "      <td>18.90</td>\n",
       "    </tr>\n",
       "    <tr>\n",
       "      <th>26</th>\n",
       "      <td>Porsche 914-2</td>\n",
       "      <td>4.43</td>\n",
       "      <td>2.140</td>\n",
       "      <td>16.70</td>\n",
       "    </tr>\n",
       "    <tr>\n",
       "      <th>27</th>\n",
       "      <td>Lotus Europa</td>\n",
       "      <td>3.77</td>\n",
       "      <td>1.513</td>\n",
       "      <td>16.90</td>\n",
       "    </tr>\n",
       "    <tr>\n",
       "      <th>28</th>\n",
       "      <td>Ford Pantera L</td>\n",
       "      <td>4.22</td>\n",
       "      <td>3.170</td>\n",
       "      <td>14.50</td>\n",
       "    </tr>\n",
       "    <tr>\n",
       "      <th>29</th>\n",
       "      <td>Ferrari Dino</td>\n",
       "      <td>3.62</td>\n",
       "      <td>2.770</td>\n",
       "      <td>15.50</td>\n",
       "    </tr>\n",
       "    <tr>\n",
       "      <th>30</th>\n",
       "      <td>Maserati Bora</td>\n",
       "      <td>3.54</td>\n",
       "      <td>3.570</td>\n",
       "      <td>14.60</td>\n",
       "    </tr>\n",
       "    <tr>\n",
       "      <th>31</th>\n",
       "      <td>Volvo 142E</td>\n",
       "      <td>4.11</td>\n",
       "      <td>2.780</td>\n",
       "      <td>18.60</td>\n",
       "    </tr>\n",
       "  </tbody>\n",
       "</table>\n",
       "</div>"
      ],
      "text/plain": [
       "             Unnamed: 0  Points  Score  Weigh\n",
       "0             Mazda RX4    3.90  2.620  16.46\n",
       "1         Mazda RX4 Wag    3.90  2.875  17.02\n",
       "2            Datsun 710    3.85  2.320  18.61\n",
       "3        Hornet 4 Drive    3.08  3.215  19.44\n",
       "4     Hornet Sportabout    3.15  3.440  17.02\n",
       "5               Valiant    2.76  3.460  20.22\n",
       "6            Duster 360    3.21  3.570  15.84\n",
       "7             Merc 240D    3.69  3.190  20.00\n",
       "8              Merc 230    3.92  3.150  22.90\n",
       "9              Merc 280    3.92  3.440  18.30\n",
       "10            Merc 280C    3.92  3.440  18.90\n",
       "11           Merc 450SE    3.07  4.070  17.40\n",
       "12           Merc 450SL    3.07  3.730  17.60\n",
       "13          Merc 450SLC    3.07  3.780  18.00\n",
       "14   Cadillac Fleetwood    2.93  5.250  17.98\n",
       "15  Lincoln Continental    3.00  5.424  17.82\n",
       "16    Chrysler Imperial    3.23  5.345  17.42\n",
       "17             Fiat 128    4.08  2.200  19.47\n",
       "18          Honda Civic    4.93  1.615  18.52\n",
       "19       Toyota Corolla    4.22  1.835  19.90\n",
       "20        Toyota Corona    3.70  2.465  20.01\n",
       "21     Dodge Challenger    2.76  3.520  16.87\n",
       "22          AMC Javelin    3.15  3.435  17.30\n",
       "23           Camaro Z28    3.73  3.840  15.41\n",
       "24     Pontiac Firebird    3.08  3.845  17.05\n",
       "25            Fiat X1-9    4.08  1.935  18.90\n",
       "26        Porsche 914-2    4.43  2.140  16.70\n",
       "27         Lotus Europa    3.77  1.513  16.90\n",
       "28       Ford Pantera L    4.22  3.170  14.50\n",
       "29         Ferrari Dino    3.62  2.770  15.50\n",
       "30        Maserati Bora    3.54  3.570  14.60\n",
       "31           Volvo 142E    4.11  2.780  18.60"
      ]
     },
     "execution_count": 3,
     "metadata": {},
     "output_type": "execute_result"
    }
   ],
   "source": [
    "cars"
   ]
  },
  {
   "cell_type": "code",
   "execution_count": 4,
   "id": "a6cf2971",
   "metadata": {},
   "outputs": [
    {
     "data": {
      "text/plain": [
       "Points     3.596563\n",
       "Score      3.217250\n",
       "Weigh     17.848750\n",
       "dtype: float64"
      ]
     },
     "execution_count": 4,
     "metadata": {},
     "output_type": "execute_result"
    }
   ],
   "source": [
    "#mean\n",
    "cars.mean()"
   ]
  },
  {
   "cell_type": "code",
   "execution_count": 5,
   "id": "6899262a",
   "metadata": {},
   "outputs": [
    {
     "data": {
      "text/plain": [
       "Points     3.695\n",
       "Score      3.325\n",
       "Weigh     17.710\n",
       "dtype: float64"
      ]
     },
     "execution_count": 5,
     "metadata": {},
     "output_type": "execute_result"
    }
   ],
   "source": [
    "#median\n",
    "cars.median()"
   ]
  },
  {
   "cell_type": "code",
   "execution_count": 6,
   "id": "702b3193",
   "metadata": {},
   "outputs": [
    {
     "data": {
      "text/plain": [
       "0    3.07\n",
       "1    3.92\n",
       "dtype: float64"
      ]
     },
     "execution_count": 6,
     "metadata": {},
     "output_type": "execute_result"
    }
   ],
   "source": [
    "#mode for points\n",
    "cars.Points.mode()"
   ]
  },
  {
   "cell_type": "code",
   "execution_count": 7,
   "id": "dae2d4e3",
   "metadata": {},
   "outputs": [
    {
     "data": {
      "text/plain": [
       "0    3.44\n",
       "dtype: float64"
      ]
     },
     "execution_count": 7,
     "metadata": {},
     "output_type": "execute_result"
    }
   ],
   "source": [
    "#mode for Score\n",
    "cars.Score.mode()"
   ]
  },
  {
   "cell_type": "code",
   "execution_count": 8,
   "id": "10335c57",
   "metadata": {},
   "outputs": [
    {
     "data": {
      "text/plain": [
       "0    17.02\n",
       "1    18.90\n",
       "dtype: float64"
      ]
     },
     "execution_count": 8,
     "metadata": {},
     "output_type": "execute_result"
    }
   ],
   "source": [
    "#mode for Weigh\n",
    "cars.Weigh.mode()"
   ]
  },
  {
   "cell_type": "code",
   "execution_count": 9,
   "id": "7e25eb97",
   "metadata": {},
   "outputs": [
    {
     "data": {
      "text/plain": [
       "Points    0.285881\n",
       "Score     0.957379\n",
       "Weigh     3.193166\n",
       "dtype: float64"
      ]
     },
     "execution_count": 9,
     "metadata": {},
     "output_type": "execute_result"
    }
   ],
   "source": [
    "#Variance\n",
    "cars.var()"
   ]
  },
  {
   "cell_type": "code",
   "execution_count": 10,
   "id": "93338545",
   "metadata": {},
   "outputs": [
    {
     "data": {
      "text/plain": [
       "Points    0.534679\n",
       "Score     0.978457\n",
       "Weigh     1.786943\n",
       "dtype: float64"
      ]
     },
     "execution_count": 10,
     "metadata": {},
     "output_type": "execute_result"
    }
   ],
   "source": [
    "#Standard Deviation\n",
    "cars.std()"
   ]
  },
  {
   "cell_type": "code",
   "execution_count": 11,
   "id": "542d8423",
   "metadata": {},
   "outputs": [
    {
     "data": {
      "text/html": [
       "<div>\n",
       "<style scoped>\n",
       "    .dataframe tbody tr th:only-of-type {\n",
       "        vertical-align: middle;\n",
       "    }\n",
       "\n",
       "    .dataframe tbody tr th {\n",
       "        vertical-align: top;\n",
       "    }\n",
       "\n",
       "    .dataframe thead th {\n",
       "        text-align: right;\n",
       "    }\n",
       "</style>\n",
       "<table border=\"1\" class=\"dataframe\">\n",
       "  <thead>\n",
       "    <tr style=\"text-align: right;\">\n",
       "      <th></th>\n",
       "      <th>Points</th>\n",
       "      <th>Score</th>\n",
       "      <th>Weigh</th>\n",
       "    </tr>\n",
       "  </thead>\n",
       "  <tbody>\n",
       "    <tr>\n",
       "      <th>count</th>\n",
       "      <td>32.000000</td>\n",
       "      <td>32.000000</td>\n",
       "      <td>32.000000</td>\n",
       "    </tr>\n",
       "    <tr>\n",
       "      <th>mean</th>\n",
       "      <td>3.596563</td>\n",
       "      <td>3.217250</td>\n",
       "      <td>17.848750</td>\n",
       "    </tr>\n",
       "    <tr>\n",
       "      <th>std</th>\n",
       "      <td>0.534679</td>\n",
       "      <td>0.978457</td>\n",
       "      <td>1.786943</td>\n",
       "    </tr>\n",
       "    <tr>\n",
       "      <th>min</th>\n",
       "      <td>2.760000</td>\n",
       "      <td>1.513000</td>\n",
       "      <td>14.500000</td>\n",
       "    </tr>\n",
       "    <tr>\n",
       "      <th>25%</th>\n",
       "      <td>3.080000</td>\n",
       "      <td>2.581250</td>\n",
       "      <td>16.892500</td>\n",
       "    </tr>\n",
       "    <tr>\n",
       "      <th>50%</th>\n",
       "      <td>3.695000</td>\n",
       "      <td>3.325000</td>\n",
       "      <td>17.710000</td>\n",
       "    </tr>\n",
       "    <tr>\n",
       "      <th>75%</th>\n",
       "      <td>3.920000</td>\n",
       "      <td>3.610000</td>\n",
       "      <td>18.900000</td>\n",
       "    </tr>\n",
       "    <tr>\n",
       "      <th>max</th>\n",
       "      <td>4.930000</td>\n",
       "      <td>5.424000</td>\n",
       "      <td>22.900000</td>\n",
       "    </tr>\n",
       "  </tbody>\n",
       "</table>\n",
       "</div>"
      ],
      "text/plain": [
       "          Points      Score      Weigh\n",
       "count  32.000000  32.000000  32.000000\n",
       "mean    3.596563   3.217250  17.848750\n",
       "std     0.534679   0.978457   1.786943\n",
       "min     2.760000   1.513000  14.500000\n",
       "25%     3.080000   2.581250  16.892500\n",
       "50%     3.695000   3.325000  17.710000\n",
       "75%     3.920000   3.610000  18.900000\n",
       "max     4.930000   5.424000  22.900000"
      ]
     },
     "execution_count": 11,
     "metadata": {},
     "output_type": "execute_result"
    }
   ],
   "source": [
    "#Summary\n",
    "cars.describe()"
   ]
  },
  {
   "cell_type": "code",
   "execution_count": 12,
   "id": "58380360",
   "metadata": {},
   "outputs": [
    {
     "data": {
      "text/plain": [
       "2.17"
      ]
     },
     "execution_count": 12,
     "metadata": {},
     "output_type": "execute_result"
    }
   ],
   "source": [
    "#range = max -min\n",
    "Points_Range=cars.Points.max()-cars.Points.min()\n",
    "Points_Range"
   ]
  },
  {
   "cell_type": "code",
   "execution_count": 13,
   "id": "cf83ce5f",
   "metadata": {},
   "outputs": [
    {
     "data": {
      "text/plain": [
       "3.9110000000000005"
      ]
     },
     "execution_count": 13,
     "metadata": {},
     "output_type": "execute_result"
    }
   ],
   "source": [
    "Score_Range=cars.Score.max()-cars.Score.min()\n",
    "Score_Range"
   ]
  },
  {
   "cell_type": "code",
   "execution_count": 14,
   "id": "0ed3f89a",
   "metadata": {},
   "outputs": [
    {
     "data": {
      "text/plain": [
       "8.399999999999999"
      ]
     },
     "execution_count": 14,
     "metadata": {},
     "output_type": "execute_result"
    }
   ],
   "source": [
    "Weigh_Range=cars.Weigh.max()-cars.Weigh.min()\n",
    "Weigh_Range"
   ]
  },
  {
   "cell_type": "code",
   "execution_count": 15,
   "id": "76df406b",
   "metadata": {},
   "outputs": [
    {
     "data": {
      "image/png": "[encoded data removed]",
      "text/plain": [
       "<Figure size 1080x360 with 3 Axes>"
      ]
     },
     "metadata": {
      "needs_background": "light"
     },
     "output_type": "display_data"
    }
   ],
   "source": [
    "f,ax=plt.subplots(figsize=(15,5))\n",
    "plt.subplot(1,3,1)\n",
    "plt.boxplot(cars.Points)\n",
    "plt.title('Points')\n",
    "plt.subplot(1,3,2)\n",
    "plt.boxplot(cars.Score)\n",
    "plt.title('Score')\n",
    "plt.subplot(1,3,3)\n",
    "plt.boxplot(cars.Weigh)\n",
    "plt.title('Weigh')\n",
    "plt.show()"
   ]
  },
  {
   "cell_type": "code",
   "execution_count": null,
   "id": "1d2d46b9",
   "metadata": {},
   "outputs": [],
   "source": [
    "#Inferences:\n",
    "a) For Points dataset: \n",
    "    1) we see that data is concentrated aroound Median \n",
    "    2) There are no outliars \n",
    "    3) The distribution is Right skewed \n",
    "    \n",
    "    b) For Score dataset: \n",
    "        1) The data is concentrated around Median \n",
    "        2) There are 3 Outliars: \n",
    "            3) The distribution is Left skewed \n",
    "            \n",
    "            c) For Weigh dataset: \n",
    "                1) The data is concentrated around Median \n",
    "                2) There is 1 Outliar: \n",
    "                    3) The distribution is Left skewed"
   ]
  },
  {
   "cell_type": "code",
   "execution_count": null,
   "id": "b54edf6f",
   "metadata": {},
   "outputs": [],
   "source": []
  },
  {
   "cell_type": "markdown",
   "id": "bb70caaa",
   "metadata": {},
   "source": [
    "# Calculate Skewness, Kurtosis & draw inferences on the following data"
   ]
  },
  {
   "cell_type": "markdown",
   "id": "0acc3471",
   "metadata": {},
   "source": [
    "Cars speed and distance "
   ]
  },
  {
   "cell_type": "code",
   "execution_count": 1,
   "id": "fc9ffb86",
   "metadata": {},
   "outputs": [],
   "source": [
    "import numpy as np\n",
    "import pandas as pd\n",
    "import matplotlib.pyplot as plt\n",
    "import seaborn as sns\n",
    "%matplotlib inline"
   ]
  },
  {
   "cell_type": "code",
   "execution_count": 2,
   "id": "d2386bc8",
   "metadata": {},
   "outputs": [],
   "source": [
    "dataQ9a=pd.read_csv(\"C:/Users/Computer/Desktop/csv files/Q9_a.csv\")"
   ]
  },
  {
   "cell_type": "code",
   "execution_count": 3,
   "id": "fa06d7c4",
   "metadata": {},
   "outputs": [
    {
     "data": {
      "text/html": [
       "<div>\n",
       "<style scoped>\n",
       "    .dataframe tbody tr th:only-of-type {\n",
       "        vertical-align: middle;\n",
       "    }\n",
       "\n",
       "    .dataframe tbody tr th {\n",
       "        vertical-align: top;\n",
       "    }\n",
       "\n",
       "    .dataframe thead th {\n",
       "        text-align: right;\n",
       "    }\n",
       "</style>\n",
       "<table border=\"1\" class=\"dataframe\">\n",
       "  <thead>\n",
       "    <tr style=\"text-align: right;\">\n",
       "      <th></th>\n",
       "      <th>Index</th>\n",
       "      <th>speed</th>\n",
       "      <th>dist</th>\n",
       "    </tr>\n",
       "  </thead>\n",
       "  <tbody>\n",
       "    <tr>\n",
       "      <th>0</th>\n",
       "      <td>1</td>\n",
       "      <td>4</td>\n",
       "      <td>2</td>\n",
       "    </tr>\n",
       "    <tr>\n",
       "      <th>1</th>\n",
       "      <td>2</td>\n",
       "      <td>4</td>\n",
       "      <td>10</td>\n",
       "    </tr>\n",
       "    <tr>\n",
       "      <th>2</th>\n",
       "      <td>3</td>\n",
       "      <td>7</td>\n",
       "      <td>4</td>\n",
       "    </tr>\n",
       "    <tr>\n",
       "      <th>3</th>\n",
       "      <td>4</td>\n",
       "      <td>7</td>\n",
       "      <td>22</td>\n",
       "    </tr>\n",
       "    <tr>\n",
       "      <th>4</th>\n",
       "      <td>5</td>\n",
       "      <td>8</td>\n",
       "      <td>16</td>\n",
       "    </tr>\n",
       "    <tr>\n",
       "      <th>5</th>\n",
       "      <td>6</td>\n",
       "      <td>9</td>\n",
       "      <td>10</td>\n",
       "    </tr>\n",
       "    <tr>\n",
       "      <th>6</th>\n",
       "      <td>7</td>\n",
       "      <td>10</td>\n",
       "      <td>18</td>\n",
       "    </tr>\n",
       "    <tr>\n",
       "      <th>7</th>\n",
       "      <td>8</td>\n",
       "      <td>10</td>\n",
       "      <td>26</td>\n",
       "    </tr>\n",
       "    <tr>\n",
       "      <th>8</th>\n",
       "      <td>9</td>\n",
       "      <td>10</td>\n",
       "      <td>34</td>\n",
       "    </tr>\n",
       "    <tr>\n",
       "      <th>9</th>\n",
       "      <td>10</td>\n",
       "      <td>11</td>\n",
       "      <td>17</td>\n",
       "    </tr>\n",
       "    <tr>\n",
       "      <th>10</th>\n",
       "      <td>11</td>\n",
       "      <td>11</td>\n",
       "      <td>28</td>\n",
       "    </tr>\n",
       "    <tr>\n",
       "      <th>11</th>\n",
       "      <td>12</td>\n",
       "      <td>12</td>\n",
       "      <td>14</td>\n",
       "    </tr>\n",
       "    <tr>\n",
       "      <th>12</th>\n",
       "      <td>13</td>\n",
       "      <td>12</td>\n",
       "      <td>20</td>\n",
       "    </tr>\n",
       "    <tr>\n",
       "      <th>13</th>\n",
       "      <td>14</td>\n",
       "      <td>12</td>\n",
       "      <td>24</td>\n",
       "    </tr>\n",
       "    <tr>\n",
       "      <th>14</th>\n",
       "      <td>15</td>\n",
       "      <td>12</td>\n",
       "      <td>28</td>\n",
       "    </tr>\n",
       "    <tr>\n",
       "      <th>15</th>\n",
       "      <td>16</td>\n",
       "      <td>13</td>\n",
       "      <td>26</td>\n",
       "    </tr>\n",
       "    <tr>\n",
       "      <th>16</th>\n",
       "      <td>17</td>\n",
       "      <td>13</td>\n",
       "      <td>34</td>\n",
       "    </tr>\n",
       "    <tr>\n",
       "      <th>17</th>\n",
       "      <td>18</td>\n",
       "      <td>13</td>\n",
       "      <td>34</td>\n",
       "    </tr>\n",
       "    <tr>\n",
       "      <th>18</th>\n",
       "      <td>19</td>\n",
       "      <td>13</td>\n",
       "      <td>46</td>\n",
       "    </tr>\n",
       "    <tr>\n",
       "      <th>19</th>\n",
       "      <td>20</td>\n",
       "      <td>14</td>\n",
       "      <td>26</td>\n",
       "    </tr>\n",
       "    <tr>\n",
       "      <th>20</th>\n",
       "      <td>21</td>\n",
       "      <td>14</td>\n",
       "      <td>36</td>\n",
       "    </tr>\n",
       "    <tr>\n",
       "      <th>21</th>\n",
       "      <td>22</td>\n",
       "      <td>14</td>\n",
       "      <td>60</td>\n",
       "    </tr>\n",
       "    <tr>\n",
       "      <th>22</th>\n",
       "      <td>23</td>\n",
       "      <td>14</td>\n",
       "      <td>80</td>\n",
       "    </tr>\n",
       "    <tr>\n",
       "      <th>23</th>\n",
       "      <td>24</td>\n",
       "      <td>15</td>\n",
       "      <td>20</td>\n",
       "    </tr>\n",
       "    <tr>\n",
       "      <th>24</th>\n",
       "      <td>25</td>\n",
       "      <td>15</td>\n",
       "      <td>26</td>\n",
       "    </tr>\n",
       "    <tr>\n",
       "      <th>25</th>\n",
       "      <td>26</td>\n",
       "      <td>15</td>\n",
       "      <td>54</td>\n",
       "    </tr>\n",
       "    <tr>\n",
       "      <th>26</th>\n",
       "      <td>27</td>\n",
       "      <td>16</td>\n",
       "      <td>32</td>\n",
       "    </tr>\n",
       "    <tr>\n",
       "      <th>27</th>\n",
       "      <td>28</td>\n",
       "      <td>16</td>\n",
       "      <td>40</td>\n",
       "    </tr>\n",
       "    <tr>\n",
       "      <th>28</th>\n",
       "      <td>29</td>\n",
       "      <td>17</td>\n",
       "      <td>32</td>\n",
       "    </tr>\n",
       "    <tr>\n",
       "      <th>29</th>\n",
       "      <td>30</td>\n",
       "      <td>17</td>\n",
       "      <td>40</td>\n",
       "    </tr>\n",
       "    <tr>\n",
       "      <th>30</th>\n",
       "      <td>31</td>\n",
       "      <td>17</td>\n",
       "      <td>50</td>\n",
       "    </tr>\n",
       "    <tr>\n",
       "      <th>31</th>\n",
       "      <td>32</td>\n",
       "      <td>18</td>\n",
       "      <td>42</td>\n",
       "    </tr>\n",
       "    <tr>\n",
       "      <th>32</th>\n",
       "      <td>33</td>\n",
       "      <td>18</td>\n",
       "      <td>56</td>\n",
       "    </tr>\n",
       "    <tr>\n",
       "      <th>33</th>\n",
       "      <td>34</td>\n",
       "      <td>18</td>\n",
       "      <td>76</td>\n",
       "    </tr>\n",
       "    <tr>\n",
       "      <th>34</th>\n",
       "      <td>35</td>\n",
       "      <td>18</td>\n",
       "      <td>84</td>\n",
       "    </tr>\n",
       "    <tr>\n",
       "      <th>35</th>\n",
       "      <td>36</td>\n",
       "      <td>19</td>\n",
       "      <td>36</td>\n",
       "    </tr>\n",
       "    <tr>\n",
       "      <th>36</th>\n",
       "      <td>37</td>\n",
       "      <td>19</td>\n",
       "      <td>46</td>\n",
       "    </tr>\n",
       "    <tr>\n",
       "      <th>37</th>\n",
       "      <td>38</td>\n",
       "      <td>19</td>\n",
       "      <td>68</td>\n",
       "    </tr>\n",
       "    <tr>\n",
       "      <th>38</th>\n",
       "      <td>39</td>\n",
       "      <td>20</td>\n",
       "      <td>32</td>\n",
       "    </tr>\n",
       "    <tr>\n",
       "      <th>39</th>\n",
       "      <td>40</td>\n",
       "      <td>20</td>\n",
       "      <td>48</td>\n",
       "    </tr>\n",
       "    <tr>\n",
       "      <th>40</th>\n",
       "      <td>41</td>\n",
       "      <td>20</td>\n",
       "      <td>52</td>\n",
       "    </tr>\n",
       "    <tr>\n",
       "      <th>41</th>\n",
       "      <td>42</td>\n",
       "      <td>20</td>\n",
       "      <td>56</td>\n",
       "    </tr>\n",
       "    <tr>\n",
       "      <th>42</th>\n",
       "      <td>43</td>\n",
       "      <td>20</td>\n",
       "      <td>64</td>\n",
       "    </tr>\n",
       "    <tr>\n",
       "      <th>43</th>\n",
       "      <td>44</td>\n",
       "      <td>22</td>\n",
       "      <td>66</td>\n",
       "    </tr>\n",
       "    <tr>\n",
       "      <th>44</th>\n",
       "      <td>45</td>\n",
       "      <td>23</td>\n",
       "      <td>54</td>\n",
       "    </tr>\n",
       "    <tr>\n",
       "      <th>45</th>\n",
       "      <td>46</td>\n",
       "      <td>24</td>\n",
       "      <td>70</td>\n",
       "    </tr>\n",
       "    <tr>\n",
       "      <th>46</th>\n",
       "      <td>47</td>\n",
       "      <td>24</td>\n",
       "      <td>92</td>\n",
       "    </tr>\n",
       "    <tr>\n",
       "      <th>47</th>\n",
       "      <td>48</td>\n",
       "      <td>24</td>\n",
       "      <td>93</td>\n",
       "    </tr>\n",
       "    <tr>\n",
       "      <th>48</th>\n",
       "      <td>49</td>\n",
       "      <td>24</td>\n",
       "      <td>120</td>\n",
       "    </tr>\n",
       "    <tr>\n",
       "      <th>49</th>\n",
       "      <td>50</td>\n",
       "      <td>25</td>\n",
       "      <td>85</td>\n",
       "    </tr>\n",
       "  </tbody>\n",
       "</table>\n",
       "</div>"
      ],
      "text/plain": [
       "    Index  speed  dist\n",
       "0       1      4     2\n",
       "1       2      4    10\n",
       "2       3      7     4\n",
       "3       4      7    22\n",
       "4       5      8    16\n",
       "5       6      9    10\n",
       "6       7     10    18\n",
       "7       8     10    26\n",
       "8       9     10    34\n",
       "9      10     11    17\n",
       "10     11     11    28\n",
       "11     12     12    14\n",
       "12     13     12    20\n",
       "13     14     12    24\n",
       "14     15     12    28\n",
       "15     16     13    26\n",
       "16     17     13    34\n",
       "17     18     13    34\n",
       "18     19     13    46\n",
       "19     20     14    26\n",
       "20     21     14    36\n",
       "21     22     14    60\n",
       "22     23     14    80\n",
       "23     24     15    20\n",
       "24     25     15    26\n",
       "25     26     15    54\n",
       "26     27     16    32\n",
       "27     28     16    40\n",
       "28     29     17    32\n",
       "29     30     17    40\n",
       "30     31     17    50\n",
       "31     32     18    42\n",
       "32     33     18    56\n",
       "33     34     18    76\n",
       "34     35     18    84\n",
       "35     36     19    36\n",
       "36     37     19    46\n",
       "37     38     19    68\n",
       "38     39     20    32\n",
       "39     40     20    48\n",
       "40     41     20    52\n",
       "41     42     20    56\n",
       "42     43     20    64\n",
       "43     44     22    66\n",
       "44     45     23    54\n",
       "45     46     24    70\n",
       "46     47     24    92\n",
       "47     48     24    93\n",
       "48     49     24   120\n",
       "49     50     25    85"
      ]
     },
     "execution_count": 3,
     "metadata": {},
     "output_type": "execute_result"
    }
   ],
   "source": [
    "dataQ9a"
   ]
  },
  {
   "cell_type": "code",
   "execution_count": 7,
   "id": "b1ad948b",
   "metadata": {},
   "outputs": [
    {
     "data": {
      "text/plain": [
       "Index    0.000000\n",
       "speed   -0.117510\n",
       "dist     0.806895\n",
       "dtype: float64"
      ]
     },
     "execution_count": 7,
     "metadata": {},
     "output_type": "execute_result"
    }
   ],
   "source": [
    "#Skewness\n",
    "dataQ9a.skew()"
   ]
  },
  {
   "cell_type": "code",
   "execution_count": null,
   "id": "adf12f7f",
   "metadata": {},
   "outputs": [],
   "source": [
    "#Inference:\n",
    "    1.As we see Speed distribution is left skewed (negative skewness) \n",
    "    2.As we see Distance distribution is right skewed (positive skewness)"
   ]
  },
  {
   "cell_type": "code",
   "execution_count": 8,
   "id": "8d8f7111",
   "metadata": {},
   "outputs": [
    {
     "data": {
      "text/plain": [
       "Index   -1.200000\n",
       "speed   -0.508994\n",
       "dist     0.405053\n",
       "dtype: float64"
      ]
     },
     "execution_count": 8,
     "metadata": {},
     "output_type": "execute_result"
    }
   ],
   "source": [
    "#Kurtosis\n",
    "dataQ9a.kurt()"
   ]
  },
  {
   "cell_type": "code",
   "execution_count": null,
   "id": "60c23fd3",
   "metadata": {},
   "outputs": [],
   "source": [
    "# Inference: \n",
    "    1. Speed distribution is flatter than normal distribution which is negative kurtosis.\n",
    "    2. Distance distributin is peaked than normal distribution which is positive kurtosis."
   ]
  },
  {
   "cell_type": "code",
   "execution_count": 4,
   "id": "5372e4e6",
   "metadata": {},
   "outputs": [
    {
     "data": {
      "image/png": "[encoded data removed]",
      "text/plain": [
       "<Figure size 432x288 with 1 Axes>"
      ]
     },
     "metadata": {
      "needs_background": "light"
     },
     "output_type": "display_data"
    }
   ],
   "source": [
    "#Bar plot\n",
    "dataQ9a.plot.bar()\n",
    "plt.show()"
   ]
  },
  {
   "cell_type": "code",
   "execution_count": 5,
   "id": "a41b03e0",
   "metadata": {},
   "outputs": [
    {
     "data": {
      "image/png": "[encoded data removed]",
      "text/plain": [
       "<Figure size 432x288 with 1 Axes>"
      ]
     },
     "metadata": {
      "needs_background": "light"
     },
     "output_type": "display_data"
    }
   ],
   "source": [
    "#Box Plot\n",
    "dataQ9a.plot.box()\n",
    "plt.show()"
   ]
  },
  {
   "cell_type": "code",
   "execution_count": null,
   "id": "2f4392e0",
   "metadata": {},
   "outputs": [],
   "source": []
  },
  {
   "cell_type": "markdown",
   "id": "2b5b6cc1",
   "metadata": {},
   "source": [
    "SP and Weight(WT)"
   ]
  },
  {
   "cell_type": "code",
   "execution_count": 19,
   "id": "43ea45ec",
   "metadata": {},
   "outputs": [],
   "source": [
    "dataQ9b=pd.read_csv(\"C:/Users/Computer/Desktop/csv files/Q9_b.csv\")"
   ]
  },
  {
   "cell_type": "code",
   "execution_count": 20,
   "id": "ea19062f",
   "metadata": {},
   "outputs": [
    {
     "data": {
      "text/html": [
       "<div>\n",
       "<style scoped>\n",
       "    .dataframe tbody tr th:only-of-type {\n",
       "        vertical-align: middle;\n",
       "    }\n",
       "\n",
       "    .dataframe tbody tr th {\n",
       "        vertical-align: top;\n",
       "    }\n",
       "\n",
       "    .dataframe thead th {\n",
       "        text-align: right;\n",
       "    }\n",
       "</style>\n",
       "<table border=\"1\" class=\"dataframe\">\n",
       "  <thead>\n",
       "    <tr style=\"text-align: right;\">\n",
       "      <th></th>\n",
       "      <th>Unnamed: 0</th>\n",
       "      <th>SP</th>\n",
       "      <th>WT</th>\n",
       "    </tr>\n",
       "  </thead>\n",
       "  <tbody>\n",
       "    <tr>\n",
       "      <th>0</th>\n",
       "      <td>1</td>\n",
       "      <td>104.185353</td>\n",
       "      <td>28.762059</td>\n",
       "    </tr>\n",
       "    <tr>\n",
       "      <th>1</th>\n",
       "      <td>2</td>\n",
       "      <td>105.461264</td>\n",
       "      <td>30.466833</td>\n",
       "    </tr>\n",
       "    <tr>\n",
       "      <th>2</th>\n",
       "      <td>3</td>\n",
       "      <td>105.461264</td>\n",
       "      <td>30.193597</td>\n",
       "    </tr>\n",
       "    <tr>\n",
       "      <th>3</th>\n",
       "      <td>4</td>\n",
       "      <td>113.461264</td>\n",
       "      <td>30.632114</td>\n",
       "    </tr>\n",
       "    <tr>\n",
       "      <th>4</th>\n",
       "      <td>5</td>\n",
       "      <td>104.461264</td>\n",
       "      <td>29.889149</td>\n",
       "    </tr>\n",
       "    <tr>\n",
       "      <th>...</th>\n",
       "      <td>...</td>\n",
       "      <td>...</td>\n",
       "      <td>...</td>\n",
       "    </tr>\n",
       "    <tr>\n",
       "      <th>76</th>\n",
       "      <td>77</td>\n",
       "      <td>169.598513</td>\n",
       "      <td>16.132947</td>\n",
       "    </tr>\n",
       "    <tr>\n",
       "      <th>77</th>\n",
       "      <td>78</td>\n",
       "      <td>150.576579</td>\n",
       "      <td>37.923113</td>\n",
       "    </tr>\n",
       "    <tr>\n",
       "      <th>78</th>\n",
       "      <td>79</td>\n",
       "      <td>151.598513</td>\n",
       "      <td>15.769625</td>\n",
       "    </tr>\n",
       "    <tr>\n",
       "      <th>79</th>\n",
       "      <td>80</td>\n",
       "      <td>167.944460</td>\n",
       "      <td>39.423099</td>\n",
       "    </tr>\n",
       "    <tr>\n",
       "      <th>80</th>\n",
       "      <td>81</td>\n",
       "      <td>139.840817</td>\n",
       "      <td>34.948615</td>\n",
       "    </tr>\n",
       "  </tbody>\n",
       "</table>\n",
       "<p>81 rows × 3 columns</p>\n",
       "</div>"
      ],
      "text/plain": [
       "    Unnamed: 0          SP         WT\n",
       "0            1  104.185353  28.762059\n",
       "1            2  105.461264  30.466833\n",
       "2            3  105.461264  30.193597\n",
       "3            4  113.461264  30.632114\n",
       "4            5  104.461264  29.889149\n",
       "..         ...         ...        ...\n",
       "76          77  169.598513  16.132947\n",
       "77          78  150.576579  37.923113\n",
       "78          79  151.598513  15.769625\n",
       "79          80  167.944460  39.423099\n",
       "80          81  139.840817  34.948615\n",
       "\n",
       "[81 rows x 3 columns]"
      ]
     },
     "execution_count": 20,
     "metadata": {},
     "output_type": "execute_result"
    }
   ],
   "source": [
    "dataQ9b"
   ]
  },
  {
   "cell_type": "code",
   "execution_count": 22,
   "id": "0c0ab527",
   "metadata": {},
   "outputs": [
    {
     "data": {
      "text/plain": [
       "Unnamed: 0    0.000000\n",
       "SP            1.611450\n",
       "WT           -0.614753\n",
       "dtype: float64"
      ]
     },
     "execution_count": 22,
     "metadata": {},
     "output_type": "execute_result"
    }
   ],
   "source": [
    "#Skewness\n",
    "dataQ9b.skew()"
   ]
  },
  {
   "cell_type": "code",
   "execution_count": 23,
   "id": "3ffe9f16",
   "metadata": {},
   "outputs": [
    {
     "data": {
      "text/plain": [
       "Unnamed: 0   -1.200000\n",
       "SP            2.977329\n",
       "WT            0.950291\n",
       "dtype: float64"
      ]
     },
     "execution_count": 23,
     "metadata": {},
     "output_type": "execute_result"
    }
   ],
   "source": [
    "#Kurtosis\n",
    "dataQ9b.kurt()"
   ]
  },
  {
   "cell_type": "code",
   "execution_count": 45,
   "id": "5e7df022",
   "metadata": {},
   "outputs": [
    {
     "data": {
      "text/plain": [
       "<AxesSubplot:>"
      ]
     },
     "execution_count": 45,
     "metadata": {},
     "output_type": "execute_result"
    },
    {
     "data": {
      "image/png": "[encoded data removed]",
      "text/plain": [
       "<Figure size 432x288 with 1 Axes>"
      ]
     },
     "metadata": {
      "needs_background": "light"
     },
     "output_type": "display_data"
    }
   ],
   "source": [
    "#Bar Plot\n",
    "dataQ9b.plot.bar()"
   ]
  },
  {
   "cell_type": "code",
   "execution_count": 46,
   "id": "9fe2dd04",
   "metadata": {},
   "outputs": [
    {
     "data": {
      "text/plain": [
       "<AxesSubplot:>"
      ]
     },
     "execution_count": 46,
     "metadata": {},
     "output_type": "execute_result"
    },
    {
     "data": {
      "image/png": "[encoded data removed]",
      "text/plain": [
       "<Figure size 432x288 with 1 Axes>"
      ]
     },
     "metadata": {
      "needs_background": "light"
     },
     "output_type": "display_data"
    }
   ],
   "source": [
    "#Box Plot\n",
    "dataQ9b.plot.box()"
   ]
  },
  {
   "cell_type": "code",
   "execution_count": null,
   "id": "ecda757e",
   "metadata": {},
   "outputs": [],
   "source": []
  },
  {
   "cell_type": "markdown",
   "id": "ce7f2c7f",
   "metadata": {},
   "source": [
    "# Suppose we want to estimate the average weight of an adult male in    Mexico. We draw a random sample of 2,000 men from a population of 3,000,000 men and weigh them. We find that the average person in our sample weighs 200 pounds, and the standard deviation of the sample is 30 pounds. Calculate 94%,98%,96% confidence interval?"
   ]
  },
  {
   "cell_type": "code",
   "execution_count": 37,
   "id": "426a5a77",
   "metadata": {},
   "outputs": [],
   "source": [
    "import numpy as np\n",
    "import pandas as pd\n",
    "from scipy import stats\n",
    "from scipy.stats import norm"
   ]
  },
  {
   "cell_type": "code",
   "execution_count": 43,
   "id": "14606015",
   "metadata": {},
   "outputs": [
    {
     "data": {
      "text/plain": [
       "(198.738325292158, 201.261674707842)"
      ]
     },
     "execution_count": 43,
     "metadata": {},
     "output_type": "execute_result"
    }
   ],
   "source": [
    "# for 94% Confidence interval \n",
    "stats.norm.interval(0.94,200,30/(2000**0.5))"
   ]
  },
  {
   "cell_type": "code",
   "execution_count": 41,
   "id": "70642835",
   "metadata": {},
   "outputs": [
    {
     "data": {
      "text/plain": [
       "(198.43943840429978, 201.56056159570022)"
      ]
     },
     "execution_count": 41,
     "metadata": {},
     "output_type": "execute_result"
    }
   ],
   "source": [
    "# for 98% Confidence interval \n",
    "stats.norm.interval(0.98,200,30/(2000**0.5))"
   ]
  },
  {
   "cell_type": "code",
   "execution_count": 56,
   "id": "aa37ed70",
   "metadata": {},
   "outputs": [
    {
     "data": {
      "text/plain": [
       "(198.62230334813333, 201.37769665186667)"
      ]
     },
     "execution_count": 56,
     "metadata": {},
     "output_type": "execute_result"
    }
   ],
   "source": [
    "# for 96% Confidence interval\n",
    "stats.norm.interval(0.96,200,30/(2000**0.5))"
   ]
  },
  {
   "cell_type": "code",
   "execution_count": null,
   "id": "75611326",
   "metadata": {},
   "outputs": [],
   "source": []
  },
  {
   "cell_type": "code",
   "execution_count": null,
   "id": "a7715544",
   "metadata": {},
   "outputs": [],
   "source": []
  },
  {
   "cell_type": "markdown",
   "id": "0d0e57c3",
   "metadata": {},
   "source": [
    "# Below are the scores obtained by a student in tests \n",
    "34,36,36,38,38,39,39,40,40,41,41,41,41,42,42,45,49,56"
   ]
  },
  {
   "cell_type": "markdown",
   "id": "459273e8",
   "metadata": {},
   "source": [
    "# 1)Find mean, median, variance, standard deviation. "
   ]
  },
  {
   "cell_type": "markdown",
   "id": "f64fade5",
   "metadata": {},
   "source": [
    "# 2)What can we say about the student marks?"
   ]
  },
  {
   "cell_type": "code",
   "execution_count": 44,
   "id": "8edc6a78",
   "metadata": {},
   "outputs": [],
   "source": [
    "import numpy as np\n",
    "import pandas as pd\n",
    "import matplotlib.pyplot as plt\n",
    "import seaborn as sns\n",
    "%matplotlib inline"
   ]
  },
  {
   "cell_type": "code",
   "execution_count": 45,
   "id": "0867c76e",
   "metadata": {},
   "outputs": [],
   "source": [
    "df = pd.Series([34,36,36,38,38,39,39,40,40,41,41,41,41,42,42,45,49,56])"
   ]
  },
  {
   "cell_type": "code",
   "execution_count": 47,
   "id": "e37f498f",
   "metadata": {},
   "outputs": [
    {
     "data": {
      "text/plain": [
       "41.0"
      ]
     },
     "execution_count": 47,
     "metadata": {},
     "output_type": "execute_result"
    }
   ],
   "source": [
    "df.mean()"
   ]
  },
  {
   "cell_type": "code",
   "execution_count": 48,
   "id": "e8803d27",
   "metadata": {},
   "outputs": [
    {
     "data": {
      "text/plain": [
       "40.5"
      ]
     },
     "execution_count": 48,
     "metadata": {},
     "output_type": "execute_result"
    }
   ],
   "source": [
    "df.median()"
   ]
  },
  {
   "cell_type": "code",
   "execution_count": 49,
   "id": "56876a1b",
   "metadata": {},
   "outputs": [
    {
     "data": {
      "text/plain": [
       "0    41\n",
       "dtype: int64"
      ]
     },
     "execution_count": 49,
     "metadata": {},
     "output_type": "execute_result"
    }
   ],
   "source": [
    "df.mode()"
   ]
  },
  {
   "cell_type": "code",
   "execution_count": 50,
   "id": "5b12e6ab",
   "metadata": {},
   "outputs": [
    {
     "data": {
      "text/plain": [
       "25.529411764705884"
      ]
     },
     "execution_count": 50,
     "metadata": {},
     "output_type": "execute_result"
    }
   ],
   "source": [
    "df.var()"
   ]
  },
  {
   "cell_type": "code",
   "execution_count": 51,
   "id": "cb35fa3a",
   "metadata": {},
   "outputs": [
    {
     "data": {
      "text/plain": [
       "5.05266382858645"
      ]
     },
     "execution_count": 51,
     "metadata": {},
     "output_type": "execute_result"
    }
   ],
   "source": [
    "df.std()"
   ]
  },
  {
   "cell_type": "code",
   "execution_count": 55,
   "id": "fe1881aa",
   "metadata": {},
   "outputs": [
    {
     "data": {
      "text/plain": [
       "{'whiskers': [<matplotlib.lines.Line2D at 0x230ffd498e0>,\n",
       "  <matplotlib.lines.Line2D at 0x230ffd49c40>],\n",
       " 'caps': [<matplotlib.lines.Line2D at 0x230ffd49fa0>,\n",
       "  <matplotlib.lines.Line2D at 0x230ffd54340>],\n",
       " 'boxes': [<matplotlib.lines.Line2D at 0x230ffd49580>],\n",
       " 'medians': [<matplotlib.lines.Line2D at 0x230ffd546a0>],\n",
       " 'fliers': [<matplotlib.lines.Line2D at 0x230ffd54a00>],\n",
       " 'means': []}"
      ]
     },
     "execution_count": 55,
     "metadata": {},
     "output_type": "execute_result"
    },
    {
     "data": {
      "image/png": "[encoded data removed]",
      "text/plain": [
       "<Figure size 432x288 with 1 Axes>"
      ]
     },
     "metadata": {
      "needs_background": "light"
     },
     "output_type": "display_data"
    }
   ],
   "source": [
    "#boxplot\n",
    "plt.boxplot(df)"
   ]
  },
  {
   "cell_type": "code",
   "execution_count": null,
   "id": "db345a0c",
   "metadata": {},
   "outputs": [],
   "source": [
    "#As we there are two outliers in following students marks between 45 and 60."
   ]
  },
  {
   "cell_type": "code",
   "execution_count": null,
   "id": "7eac584d",
   "metadata": {},
   "outputs": [],
   "source": []
  },
  {
   "cell_type": "markdown",
   "id": "22ba461e",
   "metadata": {},
   "source": [
    "# Q20"
   ]
  },
  {
   "cell_type": "code",
   "execution_count": 2,
   "id": "155783bd",
   "metadata": {},
   "outputs": [],
   "source": [
    "cars = pd.read_csv(\"C:/Users/Computer/Desktop/csv files/Cars.csv\")"
   ]
  },
  {
   "cell_type": "code",
   "execution_count": 3,
   "id": "e1eb7823",
   "metadata": {},
   "outputs": [
    {
     "data": {
      "text/html": [
       "<div>\n",
       "<style scoped>\n",
       "    .dataframe tbody tr th:only-of-type {\n",
       "        vertical-align: middle;\n",
       "    }\n",
       "\n",
       "    .dataframe tbody tr th {\n",
       "        vertical-align: top;\n",
       "    }\n",
       "\n",
       "    .dataframe thead th {\n",
       "        text-align: right;\n",
       "    }\n",
       "</style>\n",
       "<table border=\"1\" class=\"dataframe\">\n",
       "  <thead>\n",
       "    <tr style=\"text-align: right;\">\n",
       "      <th></th>\n",
       "      <th>HP</th>\n",
       "      <th>MPG</th>\n",
       "      <th>VOL</th>\n",
       "      <th>SP</th>\n",
       "      <th>WT</th>\n",
       "    </tr>\n",
       "  </thead>\n",
       "  <tbody>\n",
       "    <tr>\n",
       "      <th>0</th>\n",
       "      <td>49</td>\n",
       "      <td>53.700681</td>\n",
       "      <td>89</td>\n",
       "      <td>104.185353</td>\n",
       "      <td>28.762059</td>\n",
       "    </tr>\n",
       "    <tr>\n",
       "      <th>1</th>\n",
       "      <td>55</td>\n",
       "      <td>50.013401</td>\n",
       "      <td>92</td>\n",
       "      <td>105.461264</td>\n",
       "      <td>30.466833</td>\n",
       "    </tr>\n",
       "    <tr>\n",
       "      <th>2</th>\n",
       "      <td>55</td>\n",
       "      <td>50.013401</td>\n",
       "      <td>92</td>\n",
       "      <td>105.461264</td>\n",
       "      <td>30.193597</td>\n",
       "    </tr>\n",
       "    <tr>\n",
       "      <th>3</th>\n",
       "      <td>70</td>\n",
       "      <td>45.696322</td>\n",
       "      <td>92</td>\n",
       "      <td>113.461264</td>\n",
       "      <td>30.632114</td>\n",
       "    </tr>\n",
       "    <tr>\n",
       "      <th>4</th>\n",
       "      <td>53</td>\n",
       "      <td>50.504232</td>\n",
       "      <td>92</td>\n",
       "      <td>104.461264</td>\n",
       "      <td>29.889149</td>\n",
       "    </tr>\n",
       "    <tr>\n",
       "      <th>...</th>\n",
       "      <td>...</td>\n",
       "      <td>...</td>\n",
       "      <td>...</td>\n",
       "      <td>...</td>\n",
       "      <td>...</td>\n",
       "    </tr>\n",
       "    <tr>\n",
       "      <th>76</th>\n",
       "      <td>322</td>\n",
       "      <td>36.900000</td>\n",
       "      <td>50</td>\n",
       "      <td>169.598513</td>\n",
       "      <td>16.132947</td>\n",
       "    </tr>\n",
       "    <tr>\n",
       "      <th>77</th>\n",
       "      <td>238</td>\n",
       "      <td>19.197888</td>\n",
       "      <td>115</td>\n",
       "      <td>150.576579</td>\n",
       "      <td>37.923113</td>\n",
       "    </tr>\n",
       "    <tr>\n",
       "      <th>78</th>\n",
       "      <td>263</td>\n",
       "      <td>34.000000</td>\n",
       "      <td>50</td>\n",
       "      <td>151.598513</td>\n",
       "      <td>15.769625</td>\n",
       "    </tr>\n",
       "    <tr>\n",
       "      <th>79</th>\n",
       "      <td>295</td>\n",
       "      <td>19.833733</td>\n",
       "      <td>119</td>\n",
       "      <td>167.944460</td>\n",
       "      <td>39.423099</td>\n",
       "    </tr>\n",
       "    <tr>\n",
       "      <th>80</th>\n",
       "      <td>236</td>\n",
       "      <td>12.101263</td>\n",
       "      <td>107</td>\n",
       "      <td>139.840817</td>\n",
       "      <td>34.948615</td>\n",
       "    </tr>\n",
       "  </tbody>\n",
       "</table>\n",
       "<p>81 rows × 5 columns</p>\n",
       "</div>"
      ],
      "text/plain": [
       "     HP        MPG  VOL          SP         WT\n",
       "0    49  53.700681   89  104.185353  28.762059\n",
       "1    55  50.013401   92  105.461264  30.466833\n",
       "2    55  50.013401   92  105.461264  30.193597\n",
       "3    70  45.696322   92  113.461264  30.632114\n",
       "4    53  50.504232   92  104.461264  29.889149\n",
       "..  ...        ...  ...         ...        ...\n",
       "76  322  36.900000   50  169.598513  16.132947\n",
       "77  238  19.197888  115  150.576579  37.923113\n",
       "78  263  34.000000   50  151.598513  15.769625\n",
       "79  295  19.833733  119  167.944460  39.423099\n",
       "80  236  12.101263  107  139.840817  34.948615\n",
       "\n",
       "[81 rows x 5 columns]"
      ]
     },
     "execution_count": 3,
     "metadata": {},
     "output_type": "execute_result"
    }
   ],
   "source": [
    "cars"
   ]
  },
  {
   "cell_type": "code",
   "execution_count": null,
   "id": "34c95a37",
   "metadata": {},
   "outputs": [],
   "source": []
  },
  {
   "cell_type": "markdown",
   "id": "9fa7a203",
   "metadata": {},
   "source": [
    "# Check whether the data follows normal distribution"
   ]
  },
  {
   "cell_type": "markdown",
   "id": "df3c5b14",
   "metadata": {},
   "source": [
    "a)Check whether the MPG of Cars follows Normal Distribution "
   ]
  },
  {
   "cell_type": "code",
   "execution_count": 33,
   "id": "6b8489f2",
   "metadata": {},
   "outputs": [],
   "source": [
    "cars=pd.read_csv(\"C:/Users/Computer/Desktop/csv files/Cars.csv\")"
   ]
  },
  {
   "cell_type": "code",
   "execution_count": 53,
   "id": "f6453db8",
   "metadata": {},
   "outputs": [
    {
     "data": {
      "text/html": [
       "<div>\n",
       "<style scoped>\n",
       "    .dataframe tbody tr th:only-of-type {\n",
       "        vertical-align: middle;\n",
       "    }\n",
       "\n",
       "    .dataframe tbody tr th {\n",
       "        vertical-align: top;\n",
       "    }\n",
       "\n",
       "    .dataframe thead th {\n",
       "        text-align: right;\n",
       "    }\n",
       "</style>\n",
       "<table border=\"1\" class=\"dataframe\">\n",
       "  <thead>\n",
       "    <tr style=\"text-align: right;\">\n",
       "      <th></th>\n",
       "      <th>HP</th>\n",
       "      <th>MPG</th>\n",
       "      <th>VOL</th>\n",
       "      <th>SP</th>\n",
       "      <th>WT</th>\n",
       "    </tr>\n",
       "  </thead>\n",
       "  <tbody>\n",
       "    <tr>\n",
       "      <th>0</th>\n",
       "      <td>49</td>\n",
       "      <td>53.700681</td>\n",
       "      <td>89</td>\n",
       "      <td>104.185353</td>\n",
       "      <td>28.762059</td>\n",
       "    </tr>\n",
       "    <tr>\n",
       "      <th>1</th>\n",
       "      <td>55</td>\n",
       "      <td>50.013401</td>\n",
       "      <td>92</td>\n",
       "      <td>105.461264</td>\n",
       "      <td>30.466833</td>\n",
       "    </tr>\n",
       "    <tr>\n",
       "      <th>2</th>\n",
       "      <td>55</td>\n",
       "      <td>50.013401</td>\n",
       "      <td>92</td>\n",
       "      <td>105.461264</td>\n",
       "      <td>30.193597</td>\n",
       "    </tr>\n",
       "    <tr>\n",
       "      <th>3</th>\n",
       "      <td>70</td>\n",
       "      <td>45.696322</td>\n",
       "      <td>92</td>\n",
       "      <td>113.461264</td>\n",
       "      <td>30.632114</td>\n",
       "    </tr>\n",
       "    <tr>\n",
       "      <th>4</th>\n",
       "      <td>53</td>\n",
       "      <td>50.504232</td>\n",
       "      <td>92</td>\n",
       "      <td>104.461264</td>\n",
       "      <td>29.889149</td>\n",
       "    </tr>\n",
       "    <tr>\n",
       "      <th>...</th>\n",
       "      <td>...</td>\n",
       "      <td>...</td>\n",
       "      <td>...</td>\n",
       "      <td>...</td>\n",
       "      <td>...</td>\n",
       "    </tr>\n",
       "    <tr>\n",
       "      <th>76</th>\n",
       "      <td>322</td>\n",
       "      <td>36.900000</td>\n",
       "      <td>50</td>\n",
       "      <td>169.598513</td>\n",
       "      <td>16.132947</td>\n",
       "    </tr>\n",
       "    <tr>\n",
       "      <th>77</th>\n",
       "      <td>238</td>\n",
       "      <td>19.197888</td>\n",
       "      <td>115</td>\n",
       "      <td>150.576579</td>\n",
       "      <td>37.923113</td>\n",
       "    </tr>\n",
       "    <tr>\n",
       "      <th>78</th>\n",
       "      <td>263</td>\n",
       "      <td>34.000000</td>\n",
       "      <td>50</td>\n",
       "      <td>151.598513</td>\n",
       "      <td>15.769625</td>\n",
       "    </tr>\n",
       "    <tr>\n",
       "      <th>79</th>\n",
       "      <td>295</td>\n",
       "      <td>19.833733</td>\n",
       "      <td>119</td>\n",
       "      <td>167.944460</td>\n",
       "      <td>39.423099</td>\n",
       "    </tr>\n",
       "    <tr>\n",
       "      <th>80</th>\n",
       "      <td>236</td>\n",
       "      <td>12.101263</td>\n",
       "      <td>107</td>\n",
       "      <td>139.840817</td>\n",
       "      <td>34.948615</td>\n",
       "    </tr>\n",
       "  </tbody>\n",
       "</table>\n",
       "<p>81 rows × 5 columns</p>\n",
       "</div>"
      ],
      "text/plain": [
       "     HP        MPG  VOL          SP         WT\n",
       "0    49  53.700681   89  104.185353  28.762059\n",
       "1    55  50.013401   92  105.461264  30.466833\n",
       "2    55  50.013401   92  105.461264  30.193597\n",
       "3    70  45.696322   92  113.461264  30.632114\n",
       "4    53  50.504232   92  104.461264  29.889149\n",
       "..  ...        ...  ...         ...        ...\n",
       "76  322  36.900000   50  169.598513  16.132947\n",
       "77  238  19.197888  115  150.576579  37.923113\n",
       "78  263  34.000000   50  151.598513  15.769625\n",
       "79  295  19.833733  119  167.944460  39.423099\n",
       "80  236  12.101263  107  139.840817  34.948615\n",
       "\n",
       "[81 rows x 5 columns]"
      ]
     },
     "execution_count": 53,
     "metadata": {},
     "output_type": "execute_result"
    }
   ],
   "source": [
    "cars"
   ]
  },
  {
   "cell_type": "code",
   "execution_count": 60,
   "id": "6c234676",
   "metadata": {},
   "outputs": [
    {
     "data": {
      "image/png": "[encoded data removed]",
      "text/plain": [
       "<Figure size 432x288 with 1 Axes>"
      ]
     },
     "metadata": {
      "needs_background": "light"
     },
     "output_type": "display_data"
    }
   ],
   "source": [
    "sns.histplot(cars.MPG, label='Cars-MPG')\n",
    "plt.xlabel('MPG')\n",
    "plt.ylabel('Density')\n",
    "plt.legend();"
   ]
  },
  {
   "cell_type": "code",
   "execution_count": 61,
   "id": "c8e1c139",
   "metadata": {},
   "outputs": [
    {
     "name": "stderr",
     "output_type": "stream",
     "text": [
      "C:\\Users\\Computer\\anaconda3\\lib\\site-packages\\seaborn\\distributions.py:2557: FutureWarning: `distplot` is a deprecated function and will be removed in a future version. Please adapt your code to use either `displot` (a figure-level function with similar flexibility) or `histplot` (an axes-level function for histograms).\n",
      "  warnings.warn(msg, FutureWarning)\n"
     ]
    },
    {
     "data": {
      "image/png": "[encoded data removed]",
      "text/plain": [
       "<Figure size 432x288 with 1 Axes>"
      ]
     },
     "metadata": {
      "needs_background": "light"
     },
     "output_type": "display_data"
    }
   ],
   "source": [
    "sns.distplot(cars.MPG, label='Cars-MPG')\n",
    "plt.xlabel('MPG')\n",
    "plt.ylabel('Density')\n",
    "plt.legend();"
   ]
  },
  {
   "cell_type": "code",
   "execution_count": 22,
   "id": "f2d4c293",
   "metadata": {},
   "outputs": [
    {
     "data": {
      "text/plain": [
       "34.422075728024666"
      ]
     },
     "execution_count": 22,
     "metadata": {},
     "output_type": "execute_result"
    }
   ],
   "source": [
    "cars.MPG.mean()"
   ]
  },
  {
   "cell_type": "code",
   "execution_count": 59,
   "id": "9bbe7314",
   "metadata": {},
   "outputs": [
    {
     "data": {
      "text/plain": [
       "35.15272697"
      ]
     },
     "execution_count": 59,
     "metadata": {},
     "output_type": "execute_result"
    }
   ],
   "source": [
    "cars.MPG.median()"
   ]
  },
  {
   "cell_type": "code",
   "execution_count": null,
   "id": "92a95332",
   "metadata": {},
   "outputs": [],
   "source": [
    "#Inference: \n",
    "    MPG of Cars does follow normal distribution approximately (as mean and median are approx. same)\n"
   ]
  },
  {
   "cell_type": "code",
   "execution_count": null,
   "id": "716ebba6",
   "metadata": {},
   "outputs": [],
   "source": []
  },
  {
   "cell_type": "markdown",
   "id": "907a2cac",
   "metadata": {},
   "source": [
    "b)Check Whether the Adipose Tissue (AT) and Waist Circumference(Waist)  from wc-at data set  follows Normal Distribution "
   ]
  },
  {
   "cell_type": "code",
   "execution_count": 35,
   "id": "1a241b37",
   "metadata": {},
   "outputs": [],
   "source": [
    "df=pd.read_csv(\"C:/Users/Computer/Desktop/csv files/wc-at.csv\")"
   ]
  },
  {
   "cell_type": "code",
   "execution_count": 63,
   "id": "b9585470",
   "metadata": {},
   "outputs": [
    {
     "data": {
      "text/html": [
       "<div>\n",
       "<style scoped>\n",
       "    .dataframe tbody tr th:only-of-type {\n",
       "        vertical-align: middle;\n",
       "    }\n",
       "\n",
       "    .dataframe tbody tr th {\n",
       "        vertical-align: top;\n",
       "    }\n",
       "\n",
       "    .dataframe thead th {\n",
       "        text-align: right;\n",
       "    }\n",
       "</style>\n",
       "<table border=\"1\" class=\"dataframe\">\n",
       "  <thead>\n",
       "    <tr style=\"text-align: right;\">\n",
       "      <th></th>\n",
       "      <th>Waist</th>\n",
       "      <th>AT</th>\n",
       "    </tr>\n",
       "  </thead>\n",
       "  <tbody>\n",
       "    <tr>\n",
       "      <th>0</th>\n",
       "      <td>74.75</td>\n",
       "      <td>25.72</td>\n",
       "    </tr>\n",
       "    <tr>\n",
       "      <th>1</th>\n",
       "      <td>72.60</td>\n",
       "      <td>25.89</td>\n",
       "    </tr>\n",
       "    <tr>\n",
       "      <th>2</th>\n",
       "      <td>81.80</td>\n",
       "      <td>42.60</td>\n",
       "    </tr>\n",
       "    <tr>\n",
       "      <th>3</th>\n",
       "      <td>83.95</td>\n",
       "      <td>42.80</td>\n",
       "    </tr>\n",
       "    <tr>\n",
       "      <th>4</th>\n",
       "      <td>74.65</td>\n",
       "      <td>29.84</td>\n",
       "    </tr>\n",
       "    <tr>\n",
       "      <th>...</th>\n",
       "      <td>...</td>\n",
       "      <td>...</td>\n",
       "    </tr>\n",
       "    <tr>\n",
       "      <th>104</th>\n",
       "      <td>100.10</td>\n",
       "      <td>124.00</td>\n",
       "    </tr>\n",
       "    <tr>\n",
       "      <th>105</th>\n",
       "      <td>93.30</td>\n",
       "      <td>62.20</td>\n",
       "    </tr>\n",
       "    <tr>\n",
       "      <th>106</th>\n",
       "      <td>101.80</td>\n",
       "      <td>133.00</td>\n",
       "    </tr>\n",
       "    <tr>\n",
       "      <th>107</th>\n",
       "      <td>107.90</td>\n",
       "      <td>208.00</td>\n",
       "    </tr>\n",
       "    <tr>\n",
       "      <th>108</th>\n",
       "      <td>108.50</td>\n",
       "      <td>208.00</td>\n",
       "    </tr>\n",
       "  </tbody>\n",
       "</table>\n",
       "<p>109 rows × 2 columns</p>\n",
       "</div>"
      ],
      "text/plain": [
       "      Waist      AT\n",
       "0     74.75   25.72\n",
       "1     72.60   25.89\n",
       "2     81.80   42.60\n",
       "3     83.95   42.80\n",
       "4     74.65   29.84\n",
       "..      ...     ...\n",
       "104  100.10  124.00\n",
       "105   93.30   62.20\n",
       "106  101.80  133.00\n",
       "107  107.90  208.00\n",
       "108  108.50  208.00\n",
       "\n",
       "[109 rows x 2 columns]"
      ]
     },
     "execution_count": 63,
     "metadata": {},
     "output_type": "execute_result"
    }
   ],
   "source": [
    "df"
   ]
  },
  {
   "cell_type": "code",
   "execution_count": 64,
   "id": "a90d929e",
   "metadata": {},
   "outputs": [
    {
     "data": {
      "text/html": [
       "<div>\n",
       "<style scoped>\n",
       "    .dataframe tbody tr th:only-of-type {\n",
       "        vertical-align: middle;\n",
       "    }\n",
       "\n",
       "    .dataframe tbody tr th {\n",
       "        vertical-align: top;\n",
       "    }\n",
       "\n",
       "    .dataframe thead th {\n",
       "        text-align: right;\n",
       "    }\n",
       "</style>\n",
       "<table border=\"1\" class=\"dataframe\">\n",
       "  <thead>\n",
       "    <tr style=\"text-align: right;\">\n",
       "      <th></th>\n",
       "      <th>Waist</th>\n",
       "      <th>AT</th>\n",
       "    </tr>\n",
       "  </thead>\n",
       "  <tbody>\n",
       "    <tr>\n",
       "      <th>0</th>\n",
       "      <td>74.75</td>\n",
       "      <td>25.72</td>\n",
       "    </tr>\n",
       "    <tr>\n",
       "      <th>1</th>\n",
       "      <td>72.60</td>\n",
       "      <td>25.89</td>\n",
       "    </tr>\n",
       "    <tr>\n",
       "      <th>2</th>\n",
       "      <td>81.80</td>\n",
       "      <td>42.60</td>\n",
       "    </tr>\n",
       "    <tr>\n",
       "      <th>3</th>\n",
       "      <td>83.95</td>\n",
       "      <td>42.80</td>\n",
       "    </tr>\n",
       "    <tr>\n",
       "      <th>4</th>\n",
       "      <td>74.65</td>\n",
       "      <td>29.84</td>\n",
       "    </tr>\n",
       "  </tbody>\n",
       "</table>\n",
       "</div>"
      ],
      "text/plain": [
       "   Waist     AT\n",
       "0  74.75  25.72\n",
       "1  72.60  25.89\n",
       "2  81.80  42.60\n",
       "3  83.95  42.80\n",
       "4  74.65  29.84"
      ]
     },
     "execution_count": 64,
     "metadata": {},
     "output_type": "execute_result"
    }
   ],
   "source": [
    "df.head()"
   ]
  },
  {
   "cell_type": "code",
   "execution_count": 65,
   "id": "ad51feda",
   "metadata": {},
   "outputs": [
    {
     "data": {
      "text/html": [
       "<div>\n",
       "<style scoped>\n",
       "    .dataframe tbody tr th:only-of-type {\n",
       "        vertical-align: middle;\n",
       "    }\n",
       "\n",
       "    .dataframe tbody tr th {\n",
       "        vertical-align: top;\n",
       "    }\n",
       "\n",
       "    .dataframe thead th {\n",
       "        text-align: right;\n",
       "    }\n",
       "</style>\n",
       "<table border=\"1\" class=\"dataframe\">\n",
       "  <thead>\n",
       "    <tr style=\"text-align: right;\">\n",
       "      <th></th>\n",
       "      <th>Waist</th>\n",
       "      <th>AT</th>\n",
       "    </tr>\n",
       "  </thead>\n",
       "  <tbody>\n",
       "    <tr>\n",
       "      <th>104</th>\n",
       "      <td>100.1</td>\n",
       "      <td>124.0</td>\n",
       "    </tr>\n",
       "    <tr>\n",
       "      <th>105</th>\n",
       "      <td>93.3</td>\n",
       "      <td>62.2</td>\n",
       "    </tr>\n",
       "    <tr>\n",
       "      <th>106</th>\n",
       "      <td>101.8</td>\n",
       "      <td>133.0</td>\n",
       "    </tr>\n",
       "    <tr>\n",
       "      <th>107</th>\n",
       "      <td>107.9</td>\n",
       "      <td>208.0</td>\n",
       "    </tr>\n",
       "    <tr>\n",
       "      <th>108</th>\n",
       "      <td>108.5</td>\n",
       "      <td>208.0</td>\n",
       "    </tr>\n",
       "  </tbody>\n",
       "</table>\n",
       "</div>"
      ],
      "text/plain": [
       "     Waist     AT\n",
       "104  100.1  124.0\n",
       "105   93.3   62.2\n",
       "106  101.8  133.0\n",
       "107  107.9  208.0\n",
       "108  108.5  208.0"
      ]
     },
     "execution_count": 65,
     "metadata": {},
     "output_type": "execute_result"
    }
   ],
   "source": [
    "df.tail()"
   ]
  },
  {
   "cell_type": "code",
   "execution_count": 68,
   "id": "413b7532",
   "metadata": {},
   "outputs": [
    {
     "data": {
      "text/plain": [
       "Waist     91.901835\n",
       "AT       101.894037\n",
       "dtype: float64"
      ]
     },
     "execution_count": 68,
     "metadata": {},
     "output_type": "execute_result"
    }
   ],
   "source": [
    "df.mean()"
   ]
  },
  {
   "cell_type": "code",
   "execution_count": 69,
   "id": "16e28d5e",
   "metadata": {},
   "outputs": [
    {
     "data": {
      "text/plain": [
       "Waist    90.80\n",
       "AT       96.54\n",
       "dtype: float64"
      ]
     },
     "execution_count": 69,
     "metadata": {},
     "output_type": "execute_result"
    }
   ],
   "source": [
    "df.median()"
   ]
  },
  {
   "cell_type": "code",
   "execution_count": 73,
   "id": "bd79677b",
   "metadata": {},
   "outputs": [
    {
     "data": {
      "text/html": [
       "<div>\n",
       "<style scoped>\n",
       "    .dataframe tbody tr th:only-of-type {\n",
       "        vertical-align: middle;\n",
       "    }\n",
       "\n",
       "    .dataframe tbody tr th {\n",
       "        vertical-align: top;\n",
       "    }\n",
       "\n",
       "    .dataframe thead th {\n",
       "        text-align: right;\n",
       "    }\n",
       "</style>\n",
       "<table border=\"1\" class=\"dataframe\">\n",
       "  <thead>\n",
       "    <tr style=\"text-align: right;\">\n",
       "      <th></th>\n",
       "      <th>Waist</th>\n",
       "      <th>AT</th>\n",
       "    </tr>\n",
       "  </thead>\n",
       "  <tbody>\n",
       "    <tr>\n",
       "      <th>0</th>\n",
       "      <td>94.5</td>\n",
       "      <td>121.0</td>\n",
       "    </tr>\n",
       "    <tr>\n",
       "      <th>1</th>\n",
       "      <td>106.0</td>\n",
       "      <td>123.0</td>\n",
       "    </tr>\n",
       "    <tr>\n",
       "      <th>2</th>\n",
       "      <td>108.5</td>\n",
       "      <td>NaN</td>\n",
       "    </tr>\n",
       "  </tbody>\n",
       "</table>\n",
       "</div>"
      ],
      "text/plain": [
       "   Waist     AT\n",
       "0   94.5  121.0\n",
       "1  106.0  123.0\n",
       "2  108.5    NaN"
      ]
     },
     "execution_count": 73,
     "metadata": {},
     "output_type": "execute_result"
    }
   ],
   "source": [
    "df.mode()"
   ]
  },
  {
   "cell_type": "code",
   "execution_count": 36,
   "id": "ca96b7e6",
   "metadata": {},
   "outputs": [
    {
     "name": "stderr",
     "output_type": "stream",
     "text": [
      "C:\\Users\\Computer\\anaconda3\\lib\\site-packages\\seaborn\\distributions.py:2557: FutureWarning: `distplot` is a deprecated function and will be removed in a future version. Please adapt your code to use either `displot` (a figure-level function with similar flexibility) or `histplot` (an axes-level function for histograms).\n",
      "  warnings.warn(msg, FutureWarning)\n"
     ]
    },
    {
     "data": {
      "image/png": "[encoded data removed]",
      "text/plain": [
       "<Figure size 432x288 with 1 Axes>"
      ]
     },
     "metadata": {
      "needs_background": "light"
     },
     "output_type": "display_data"
    }
   ],
   "source": [
    "sns.distplot(df['Waist'])\n",
    "plt.show()"
   ]
  },
  {
   "cell_type": "code",
   "execution_count": 75,
   "id": "2b26f6e4",
   "metadata": {},
   "outputs": [
    {
     "name": "stderr",
     "output_type": "stream",
     "text": [
      "C:\\Users\\Computer\\anaconda3\\lib\\site-packages\\seaborn\\distributions.py:2557: FutureWarning: `distplot` is a deprecated function and will be removed in a future version. Please adapt your code to use either `displot` (a figure-level function with similar flexibility) or `histplot` (an axes-level function for histograms).\n",
      "  warnings.warn(msg, FutureWarning)\n"
     ]
    },
    {
     "data": {
      "image/png": "[encoded data removed]",
      "text/plain": [
       "<Figure size 432x288 with 1 Axes>"
      ]
     },
     "metadata": {
      "needs_background": "light"
     },
     "output_type": "display_data"
    }
   ],
   "source": [
    "sns.distplot(df['AT'])\n",
    "plt.show()"
   ]
  },
  {
   "cell_type": "code",
   "execution_count": 76,
   "id": "49977fc7",
   "metadata": {},
   "outputs": [
    {
     "name": "stderr",
     "output_type": "stream",
     "text": [
      "C:\\Users\\Computer\\anaconda3\\lib\\site-packages\\seaborn\\_decorators.py:36: FutureWarning: Pass the following variable as a keyword arg: x. From version 0.12, the only valid positional argument will be `data`, and passing other arguments without an explicit keyword will result in an error or misinterpretation.\n",
      "  warnings.warn(\n"
     ]
    },
    {
     "data": {
      "image/png": "[encoded data removed]",
      "text/plain": [
       "<Figure size 432x288 with 1 Axes>"
      ]
     },
     "metadata": {
      "needs_background": "light"
     },
     "output_type": "display_data"
    }
   ],
   "source": [
    "sns.boxplot(df['AT'])\n",
    "plt.show()\n",
    "\n",
    "# mean> median, right whisker is larger than left whisker, data is positively skewed."
   ]
  },
  {
   "cell_type": "code",
   "execution_count": 77,
   "id": "74d9c4f2",
   "metadata": {},
   "outputs": [
    {
     "name": "stderr",
     "output_type": "stream",
     "text": [
      "C:\\Users\\Computer\\anaconda3\\lib\\site-packages\\seaborn\\_decorators.py:36: FutureWarning: Pass the following variable as a keyword arg: x. From version 0.12, the only valid positional argument will be `data`, and passing other arguments without an explicit keyword will result in an error or misinterpretation.\n",
      "  warnings.warn(\n"
     ]
    },
    {
     "data": {
      "image/png": "[encoded data removed]",
      "text/plain": [
       "<Figure size 432x288 with 1 Axes>"
      ]
     },
     "metadata": {
      "needs_background": "light"
     },
     "output_type": "display_data"
    }
   ],
   "source": [
    "sns.boxplot(df['Waist'])\n",
    "plt.show()\n",
    "\n",
    "# mean> median, both the whisker are of same lenght, median is slightly shifted towards left. Data is fairly symetrically distributed."
   ]
  },
  {
   "cell_type": "code",
   "execution_count": null,
   "id": "749e280e",
   "metadata": {},
   "outputs": [],
   "source": []
  },
  {
   "cell_type": "markdown",
   "id": "fe5f610c",
   "metadata": {},
   "source": [
    "# Calculate the Z scores of  90% confidence interval,94% confidence interval, 60% confidence interval "
   ]
  },
  {
   "cell_type": "code",
   "execution_count": 12,
   "id": "541c346c",
   "metadata": {},
   "outputs": [],
   "source": [
    "from scipy import stats\n",
    "from scipy.stats import norm"
   ]
  },
  {
   "cell_type": "code",
   "execution_count": 26,
   "id": "0612663f",
   "metadata": {},
   "outputs": [
    {
     "data": {
      "text/plain": [
       "1.6448536269514722"
      ]
     },
     "execution_count": 26,
     "metadata": {},
     "output_type": "execute_result"
    }
   ],
   "source": [
    "# Z-score for  90% confidence interval is \n",
    "stats.norm.ppf(0.95)"
   ]
  },
  {
   "cell_type": "code",
   "execution_count": 16,
   "id": "a5c215d6",
   "metadata": {},
   "outputs": [
    {
     "data": {
      "text/plain": [
       "1.8807936081512509"
      ]
     },
     "execution_count": 16,
     "metadata": {},
     "output_type": "execute_result"
    }
   ],
   "source": [
    "# Z-score for 94% confidence interval is\n",
    "stats.norm.ppf(0.97)"
   ]
  },
  {
   "cell_type": "code",
   "execution_count": 28,
   "id": "cab51a6e",
   "metadata": {},
   "outputs": [
    {
     "data": {
      "text/plain": [
       "0.8416212335729143"
      ]
     },
     "execution_count": 28,
     "metadata": {},
     "output_type": "execute_result"
    }
   ],
   "source": [
    "# Z-score of 60% confidence interval is\n",
    "stats.norm.ppf(0.8)"
   ]
  },
  {
   "cell_type": "code",
   "execution_count": null,
   "id": "4412b3de",
   "metadata": {},
   "outputs": [],
   "source": []
  },
  {
   "cell_type": "markdown",
   "id": "d61c5b15",
   "metadata": {},
   "source": [
    "# Calculate the t scores of 95% confidence interval, 96% confidence interval, 99% confidence interval for sample size of 25"
   ]
  },
  {
   "cell_type": "code",
   "execution_count": 4,
   "id": "b6531fbe",
   "metadata": {},
   "outputs": [],
   "source": [
    "from scipy import stats\n",
    "from scipy.stats import norm"
   ]
  },
  {
   "cell_type": "code",
   "execution_count": 30,
   "id": "24377004",
   "metadata": {},
   "outputs": [
    {
     "data": {
      "text/plain": [
       "2.0638985616280205"
      ]
     },
     "execution_count": 30,
     "metadata": {},
     "output_type": "execute_result"
    }
   ],
   "source": [
    "#for 95 % confidence interval t score is :\n",
    "stats.t.ppf(0.975,24)"
   ]
  },
  {
   "cell_type": "code",
   "execution_count": 10,
   "id": "e6b59f71",
   "metadata": {},
   "outputs": [
    {
     "data": {
      "text/plain": [
       "2.1715446760080677"
      ]
     },
     "execution_count": 10,
     "metadata": {},
     "output_type": "execute_result"
    }
   ],
   "source": [
    "#for 96 % confidence interval t score is :\n",
    "stats.t.ppf(0.98,24)"
   ]
  },
  {
   "cell_type": "code",
   "execution_count": 11,
   "id": "5629e2e1",
   "metadata": {},
   "outputs": [
    {
     "data": {
      "text/plain": [
       "2.796939504772804"
      ]
     },
     "execution_count": 11,
     "metadata": {},
     "output_type": "execute_result"
    }
   ],
   "source": [
    "#for 99 % confidence interval t score is :\n",
    "stats.t.ppf(0.995,24)"
   ]
  },
  {
   "cell_type": "code",
   "execution_count": null,
   "id": "1626ec80",
   "metadata": {},
   "outputs": [],
   "source": []
  },
  {
   "cell_type": "markdown",
   "id": "cec3654b",
   "metadata": {},
   "source": [
    "# A Government  company claims that an average light bulb lasts 270 days. A researcher randomly selects 18 bulbs for testing. The sampled bulbs last an average of 260 days, with a standard deviation of 90 days. If the CEO's claim were true, what is the probability that 18 randomly selected bulbs would have an average life of no more than 260 days"
   ]
  },
  {
   "cell_type": "code",
   "execution_count": 18,
   "id": "f9b4543e",
   "metadata": {},
   "outputs": [],
   "source": [
    "from scipy import stats\n",
    "from scipy.stats import norm"
   ]
  },
  {
   "cell_type": "code",
   "execution_count": 32,
   "id": "c28d52e6",
   "metadata": {},
   "outputs": [
    {
     "data": {
      "text/plain": [
       "-0.4714045207910317"
      ]
     },
     "execution_count": 32,
     "metadata": {},
     "output_type": "execute_result"
    }
   ],
   "source": [
    "# find t-scores at x=260; t=(s_mean-P_mean)/(s_SD/sqrt(n))\n",
    "t=(260-270)/(90/18**0.5)\n",
    "t"
   ]
  },
  {
   "cell_type": "code",
   "execution_count": 20,
   "id": "a2df197c",
   "metadata": {},
   "outputs": [
    {
     "data": {
      "text/plain": [
       "0.32167411684460556"
      ]
     },
     "execution_count": 20,
     "metadata": {},
     "output_type": "execute_result"
    }
   ],
   "source": [
    "# p_value=1-stats.t.cdf(abs(t_scores),df=n-1)... Using cdf function\n",
    "p_value=1-stats.t.cdf(abs(-0.4714),df=17)\n",
    "p_value"
   ]
  },
  {
   "cell_type": "code",
   "execution_count": null,
   "id": "8ae229c0",
   "metadata": {},
   "outputs": [],
   "source": []
  },
  {
   "cell_type": "code",
   "execution_count": null,
   "id": "4d82b177",
   "metadata": {},
   "outputs": [],
   "source": []
  },
  {
   "cell_type": "code",
   "execution_count": null,
   "id": "c64017f8",
   "metadata": {},
   "outputs": [],
   "source": []
  }
 ],
 "metadata": {
  "kernelspec": {
   "display_name": "Python 3",
   "language": "python",
   "name": "python3"
  },
  "language_info": {
   "codemirror_mode": {
    "name": "ipython",
    "version": 3
   },
   "file_extension": ".py",
   "mimetype": "text/x-python",
   "name": "python",
   "nbconvert_exporter": "python",
   "pygments_lexer": "ipython3",
   "version": "3.8.8"
  }
 },
 "nbformat": 4,
 "nbformat_minor": 5
}
